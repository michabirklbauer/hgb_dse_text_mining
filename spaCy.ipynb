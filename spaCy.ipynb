{
 "cells": [
  {
   "cell_type": "markdown",
   "id": "a1e51581-23c7-4ae2-b77f-141b09f1f9ae",
   "metadata": {},
   "source": [
    "# **Data**\n",
    "\n",
    "For our exercises we will use two different datasets:\n",
    "- The AG News subset that features english news articles of 4 different categories\n",
    "- The 10kGNAD dataset that features german news articles of 9 different categories"
   ]
  },
  {
   "cell_type": "code",
   "execution_count": 1,
   "id": "8aba7fa7-7a00-4367-92df-33c4873c1794",
   "metadata": {},
   "outputs": [],
   "source": [
    "import csv\n",
    "import pandas as pd\n",
    "\n",
    "# english data\n",
    "classes_en = {1: \"World\", 2: \"Sports\", 3: \"Business\", 4: \"Sci/Tech\"}\n",
    "train_en = pd.read_csv(\"https://raw.githubusercontent.com/michabirklbauer/hgb_dse_text_mining/master/data/AGNews/train.csv\", \n",
    "                       names = [\"Label\", \"Title\", \"Article\"],\n",
    "                       encoding = \"utf-8\")\n",
    "test_en = pd.read_csv(\"https://raw.githubusercontent.com/michabirklbauer/hgb_dse_text_mining/master/data/AGNews/test.csv\", \n",
    "                      names = [\"Label\", \"Title\", \"Article\"],\n",
    "                      encoding = \"utf-8\")\n",
    "\n",
    "# german data\n",
    "train_de = pd.read_csv(\"https://raw.githubusercontent.com/michabirklbauer/hgb_dse_text_mining/master/data/10kGNAD/train.csv\", \n",
    "                       sep = \";\", names = [\"Label\", \"Article\"], \n",
    "                       quotechar = \"\\'\", quoting = csv.QUOTE_MINIMAL, encoding = \"utf-8\")\n",
    "test_de = pd.read_csv(\"https://raw.githubusercontent.com/michabirklbauer/hgb_dse_text_mining/master/data/10kGNAD/test.csv\", \n",
    "                       sep = \";\", names = [\"Label\", \"Article\"], \n",
    "                       quotechar = \"\\'\", quoting = csv.QUOTE_MINIMAL, encoding = \"utf-8\")"
   ]
  },
  {
   "cell_type": "markdown",
   "id": "348c9409-f422-4145-9b3a-3276cafb1f81",
   "metadata": {},
   "source": [
    "### The english dataset features 120 000 training and 7600 test samples with equally balanced classes"
   ]
  },
  {
   "cell_type": "code",
   "execution_count": 2,
   "id": "449c32da-918c-4474-ade5-f3c20b6489d6",
   "metadata": {},
   "outputs": [
    {
     "name": "stdout",
     "output_type": "stream",
     "text": [
      "(120000, 3)\n",
      "(7600, 3)\n"
     ]
    },
    {
     "data": {
      "text/html": [
       "<div>\n",
       "<style scoped>\n",
       "    .dataframe tbody tr th:only-of-type {\n",
       "        vertical-align: middle;\n",
       "    }\n",
       "\n",
       "    .dataframe tbody tr th {\n",
       "        vertical-align: top;\n",
       "    }\n",
       "\n",
       "    .dataframe thead th {\n",
       "        text-align: right;\n",
       "    }\n",
       "</style>\n",
       "<table border=\"1\" class=\"dataframe\">\n",
       "  <thead>\n",
       "    <tr style=\"text-align: right;\">\n",
       "      <th></th>\n",
       "      <th>Label</th>\n",
       "      <th>Title</th>\n",
       "      <th>Article</th>\n",
       "    </tr>\n",
       "  </thead>\n",
       "  <tbody>\n",
       "    <tr>\n",
       "      <th>0</th>\n",
       "      <td>3</td>\n",
       "      <td>Wall St. Bears Claw Back Into the Black (Reuters)</td>\n",
       "      <td>Reuters - Short-sellers, Wall Street's dwindli...</td>\n",
       "    </tr>\n",
       "    <tr>\n",
       "      <th>1</th>\n",
       "      <td>3</td>\n",
       "      <td>Carlyle Looks Toward Commercial Aerospace (Reu...</td>\n",
       "      <td>Reuters - Private investment firm Carlyle Grou...</td>\n",
       "    </tr>\n",
       "    <tr>\n",
       "      <th>2</th>\n",
       "      <td>3</td>\n",
       "      <td>Oil and Economy Cloud Stocks' Outlook (Reuters)</td>\n",
       "      <td>Reuters - Soaring crude prices plus worries\\ab...</td>\n",
       "    </tr>\n",
       "    <tr>\n",
       "      <th>3</th>\n",
       "      <td>3</td>\n",
       "      <td>Iraq Halts Oil Exports from Main Southern Pipe...</td>\n",
       "      <td>Reuters - Authorities have halted oil export\\f...</td>\n",
       "    </tr>\n",
       "    <tr>\n",
       "      <th>4</th>\n",
       "      <td>3</td>\n",
       "      <td>Oil prices soar to all-time record, posing new...</td>\n",
       "      <td>AFP - Tearaway world oil prices, toppling reco...</td>\n",
       "    </tr>\n",
       "  </tbody>\n",
       "</table>\n",
       "</div>"
      ],
      "text/plain": [
       "   Label                                              Title  \\\n",
       "0      3  Wall St. Bears Claw Back Into the Black (Reuters)   \n",
       "1      3  Carlyle Looks Toward Commercial Aerospace (Reu...   \n",
       "2      3    Oil and Economy Cloud Stocks' Outlook (Reuters)   \n",
       "3      3  Iraq Halts Oil Exports from Main Southern Pipe...   \n",
       "4      3  Oil prices soar to all-time record, posing new...   \n",
       "\n",
       "                                             Article  \n",
       "0  Reuters - Short-sellers, Wall Street's dwindli...  \n",
       "1  Reuters - Private investment firm Carlyle Grou...  \n",
       "2  Reuters - Soaring crude prices plus worries\\ab...  \n",
       "3  Reuters - Authorities have halted oil export\\f...  \n",
       "4  AFP - Tearaway world oil prices, toppling reco...  "
      ]
     },
     "execution_count": 2,
     "metadata": {},
     "output_type": "execute_result"
    }
   ],
   "source": [
    "print(train_en.shape)\n",
    "print(test_en.shape)\n",
    "train_en.head()"
   ]
  },
  {
   "cell_type": "code",
   "execution_count": 3,
   "id": "a183299e-96fe-4371-a118-42f2dc9fd0ea",
   "metadata": {},
   "outputs": [
    {
     "data": {
      "text/plain": [
       "<Axes: xlabel='Label'>"
      ]
     },
     "execution_count": 3,
     "metadata": {},
     "output_type": "execute_result"
    },
    {
     "data": {
      "image/png": "[encoded data removed]",
      "text/plain": [
       "<Figure size 640x480 with 1 Axes>"
      ]
     },
     "metadata": {},
     "output_type": "display_data"
    }
   ],
   "source": [
    "train_en[\"Label\"].value_counts().plot(kind = \"bar\")"
   ]
  },
  {
   "cell_type": "markdown",
   "id": "d9a1f958-60c9-4f2e-a2b2-b8220064eb8f",
   "metadata": {},
   "source": [
    "### The german dataset features 9245 training and 1028 test samples with rather unbalanced classes"
   ]
  },
  {
   "cell_type": "code",
   "execution_count": 4,
   "id": "83676efc-a53c-4794-a7ce-add7aac7cac7",
   "metadata": {},
   "outputs": [
    {
     "name": "stdout",
     "output_type": "stream",
     "text": [
      "(9245, 2)\n",
      "(1028, 2)\n"
     ]
    },
    {
     "data": {
      "text/html": [
       "<div>\n",
       "<style scoped>\n",
       "    .dataframe tbody tr th:only-of-type {\n",
       "        vertical-align: middle;\n",
       "    }\n",
       "\n",
       "    .dataframe tbody tr th {\n",
       "        vertical-align: top;\n",
       "    }\n",
       "\n",
       "    .dataframe thead th {\n",
       "        text-align: right;\n",
       "    }\n",
       "</style>\n",
       "<table border=\"1\" class=\"dataframe\">\n",
       "  <thead>\n",
       "    <tr style=\"text-align: right;\">\n",
       "      <th></th>\n",
       "      <th>Label</th>\n",
       "      <th>Article</th>\n",
       "    </tr>\n",
       "  </thead>\n",
       "  <tbody>\n",
       "    <tr>\n",
       "      <th>0</th>\n",
       "      <td>Sport</td>\n",
       "      <td>21-Jähriger fällt wohl bis Saisonende aus. Wie...</td>\n",
       "    </tr>\n",
       "    <tr>\n",
       "      <th>1</th>\n",
       "      <td>Kultur</td>\n",
       "      <td>Erfundene Bilder zu Filmen, die als verloren g...</td>\n",
       "    </tr>\n",
       "    <tr>\n",
       "      <th>2</th>\n",
       "      <td>Web</td>\n",
       "      <td>Der frischgekürte CEO Sundar Pichai setzt auf ...</td>\n",
       "    </tr>\n",
       "    <tr>\n",
       "      <th>3</th>\n",
       "      <td>Wirtschaft</td>\n",
       "      <td>Putin: \"Einigung, dass wir Menge auf Niveau vo...</td>\n",
       "    </tr>\n",
       "    <tr>\n",
       "      <th>4</th>\n",
       "      <td>Inland</td>\n",
       "      <td>Estland sieht den künftigen österreichischen P...</td>\n",
       "    </tr>\n",
       "  </tbody>\n",
       "</table>\n",
       "</div>"
      ],
      "text/plain": [
       "        Label                                            Article\n",
       "0       Sport  21-Jähriger fällt wohl bis Saisonende aus. Wie...\n",
       "1      Kultur  Erfundene Bilder zu Filmen, die als verloren g...\n",
       "2         Web  Der frischgekürte CEO Sundar Pichai setzt auf ...\n",
       "3  Wirtschaft  Putin: \"Einigung, dass wir Menge auf Niveau vo...\n",
       "4      Inland  Estland sieht den künftigen österreichischen P..."
      ]
     },
     "execution_count": 4,
     "metadata": {},
     "output_type": "execute_result"
    }
   ],
   "source": [
    "print(train_de.shape)\n",
    "print(test_de.shape)\n",
    "train_de.head()"
   ]
  },
  {
   "cell_type": "code",
   "execution_count": 5,
   "id": "5e5f54ab-6967-4018-8a0d-330dd974c856",
   "metadata": {},
   "outputs": [
    {
     "data": {
      "text/plain": [
       "<Axes: xlabel='Label'>"
      ]
     },
     "execution_count": 5,
     "metadata": {},
     "output_type": "execute_result"
    },
    {
     "data": {
      "image/png": "[encoded data removed]",
      "text/plain": [
       "<Figure size 640x480 with 1 Axes>"
      ]
     },
     "metadata": {},
     "output_type": "display_data"
    }
   ],
   "source": [
    "train_de[\"Label\"].value_counts().plot(kind = \"bar\")"
   ]
  },
  {
   "cell_type": "markdown",
   "id": "d98d9d85-8875-430f-8f78-a3865e2774fe",
   "metadata": {},
   "source": [
    "# **spaCy**\n",
    "\n",
    "spaCy is a natural language processing library that comes with many built-in features that solve core linguistic tasks.  \n",
    "The following exercises should be carried out by getting familiar with the spaCy API. The documentation can be found at:\n",
    "\n",
    "[https://spacy.io/usage](https://spacy.io/usage)\n",
    "\n",
    "spaCy needs a language model to analyze text, we will work with both the english and the german language models which can be downloaded by executing the following:"
   ]
  },
  {
   "cell_type": "code",
   "execution_count": 6,
   "id": "ce9c0b96-f09a-48c3-a74d-87f04501365a",
   "metadata": {},
   "outputs": [],
   "source": [
    "%%capture output\n",
    "!python -m spacy download en_core_web_sm"
   ]
  },
  {
   "cell_type": "code",
   "execution_count": 7,
   "id": "78796770-425a-4de4-a409-ffcdaa4a3023",
   "metadata": {},
   "outputs": [
    {
     "name": "stdout",
     "output_type": "stream",
     "text": [
      "Download and installation successful!\n"
     ]
    }
   ],
   "source": [
    "if \"Download and installation successful\" in output.stdout:\n",
    "    print(\"Download and installation successful!\")\n",
    "else:\n",
    "    print(output.stdout)\n",
    "    print(output.stderr)"
   ]
  },
  {
   "cell_type": "code",
   "execution_count": 8,
   "id": "ae4c28b8-8c4e-464c-9ec4-871f5f749d15",
   "metadata": {},
   "outputs": [],
   "source": [
    "%%capture output\n",
    "!python -m spacy download en_core_web_lg"
   ]
  },
  {
   "cell_type": "code",
   "execution_count": 9,
   "id": "738779ca-f436-4446-9a8b-57f9c7adb800",
   "metadata": {},
   "outputs": [
    {
     "name": "stdout",
     "output_type": "stream",
     "text": [
      "Download and installation successful!\n"
     ]
    }
   ],
   "source": [
    "if \"Download and installation successful\" in output.stdout:\n",
    "    print(\"Download and installation successful!\")\n",
    "else:\n",
    "    print(output.stdout)\n",
    "    print(output.stderr)"
   ]
  },
  {
   "cell_type": "code",
   "execution_count": 10,
   "id": "e8d6a9db-569e-4704-a26d-8af02858e11f",
   "metadata": {},
   "outputs": [],
   "source": [
    "%%capture output\n",
    "!python -m spacy download de_core_news_sm"
   ]
  },
  {
   "cell_type": "code",
   "execution_count": 11,
   "id": "8d434c50-3440-4e6a-b645-4bd576792e38",
   "metadata": {},
   "outputs": [
    {
     "name": "stdout",
     "output_type": "stream",
     "text": [
      "Download and installation successful!\n"
     ]
    }
   ],
   "source": [
    "if \"Download and installation successful\" in output.stdout:\n",
    "    print(\"Download and installation successful!\")\n",
    "else:\n",
    "    print(output.stdout)\n",
    "    print(output.stderr)"
   ]
  },
  {
   "cell_type": "code",
   "execution_count": 12,
   "id": "5e574b26-a46d-421e-8a7c-1a82d1f1a6d4",
   "metadata": {},
   "outputs": [],
   "source": [
    "%%capture output\n",
    "!python -m spacy download de_core_news_lg"
   ]
  },
  {
   "cell_type": "code",
   "execution_count": 13,
   "id": "ac8736fc-dbb0-447a-91f4-dbd369aec823",
   "metadata": {},
   "outputs": [
    {
     "name": "stdout",
     "output_type": "stream",
     "text": [
      "Download and installation successful!\n"
     ]
    }
   ],
   "source": [
    "if \"Download and installation successful\" in output.stdout:\n",
    "    print(\"Download and installation successful!\")\n",
    "else:\n",
    "    print(output.stdout)\n",
    "    print(output.stderr)"
   ]
  },
  {
   "cell_type": "markdown",
   "id": "a1e00d63-0f75-47ed-a974-b100f7d3006d",
   "metadata": {},
   "source": [
    "### Loading models"
   ]
  },
  {
   "cell_type": "code",
   "execution_count": 14,
   "id": "2dbccc8e-a6c8-4255-9750-84b488acd5dc",
   "metadata": {},
   "outputs": [],
   "source": [
    "import spacy\n",
    "import random\n",
    "import en_core_web_lg\n",
    "import de_core_news_lg\n",
    "\n",
    "nlp_en = en_core_web_lg.load()\n",
    "nlp_de = de_core_news_lg.load()"
   ]
  },
  {
   "cell_type": "markdown",
   "id": "747159d0-9d36-4cfc-971f-dff0315472c8",
   "metadata": {
    "tags": []
   },
   "source": [
    "### Use spaCy to tokenize a random Article of both the english and the german dataset"
   ]
  },
  {
   "cell_type": "code",
   "execution_count": 15,
   "id": "b693eab1-6b6d-43e0-8b50-e3583bd73bba",
   "metadata": {},
   "outputs": [],
   "source": [
    "# select a random english article\n",
    "r_en = random.randint(0, train_en.shape[0] - 1)\n",
    "# your code here\n",
    "# ..."
   ]
  },
  {
   "cell_type": "code",
   "execution_count": 16,
   "id": "021b6dc3-6013-4d5f-acd5-06876170f87f",
   "metadata": {},
   "outputs": [],
   "source": [
    "# select a random german article\n",
    "r_de = random.randint(0, train_de.shape[0] - 1)\n",
    "# your code here\n",
    "# ..."
   ]
  },
  {
   "cell_type": "markdown",
   "id": "64bf2b76-3c49-49fe-9e07-2e21d6292aa3",
   "metadata": {},
   "source": [
    "### Use spaCy to lemmatize a random Article of both the english and the german dataset"
   ]
  },
  {
   "cell_type": "code",
   "execution_count": 17,
   "id": "d1687de7-0473-473b-8a55-fc7657657d9f",
   "metadata": {},
   "outputs": [],
   "source": [
    "# your code here [en]"
   ]
  },
  {
   "cell_type": "code",
   "execution_count": 18,
   "id": "c85e4e95-18e3-40c4-bcad-277a9b3f1b61",
   "metadata": {},
   "outputs": [],
   "source": [
    "# your code here [de]"
   ]
  },
  {
   "cell_type": "markdown",
   "id": "56da6a4a-e092-413f-aadc-9f3374f26e64",
   "metadata": {},
   "source": [
    "### Use spaCy for Part-Of-Speech tagging of a random Article of both the english and the german dataset\n",
    "\n",
    "- Either print the token attributes or visualize them as a table!\n",
    "- What do the attributes describe?\n",
    "- Visualize the POS attribute as a dependency plot with spaCy's displacy!\n",
    "- Optional: For the german dataset visualize sentences separately for better readability."
   ]
  },
  {
   "cell_type": "code",
   "execution_count": 19,
   "id": "914d85f2-bc04-4405-bf86-8aed3528d2e1",
   "metadata": {},
   "outputs": [],
   "source": [
    "# your code here [en]"
   ]
  },
  {
   "cell_type": "code",
   "execution_count": 20,
   "id": "feb2a148-e088-4a0d-8efd-97747547f29e",
   "metadata": {},
   "outputs": [],
   "source": [
    "from spacy import displacy\n",
    "\n",
    "# your code here [en]"
   ]
  },
  {
   "cell_type": "code",
   "execution_count": 21,
   "id": "4d8d1c03-3487-47cf-a3bc-0599b414a536",
   "metadata": {},
   "outputs": [],
   "source": [
    "# your code here [de]"
   ]
  },
  {
   "cell_type": "code",
   "execution_count": 22,
   "id": "11ba48f4-bff6-44fc-bce5-6cb948abe87c",
   "metadata": {},
   "outputs": [],
   "source": [
    "# your code here [de]"
   ]
  },
  {
   "cell_type": "markdown",
   "id": "17c63fe6-c918-480f-bcda-0354c262cb38",
   "metadata": {},
   "source": [
    "### Use spaCy for Named Entity Recognition (NER) of a random Article of both the english and the german dataset\n",
    "\n",
    "- Either print the entity attributes or visualize them as a table!\n",
    "- Visualize the entities as an entity plot with spaCy's displacy!"
   ]
  },
  {
   "cell_type": "code",
   "execution_count": 23,
   "id": "fdb3edff-d456-4b80-9d66-ef19dcb583f7",
   "metadata": {},
   "outputs": [],
   "source": [
    "# your code here [en]"
   ]
  },
  {
   "cell_type": "code",
   "execution_count": 24,
   "id": "dda02b3c-3eb2-4b76-9f03-bb40f8ca8268",
   "metadata": {},
   "outputs": [],
   "source": [
    "# your code here [en]"
   ]
  },
  {
   "cell_type": "code",
   "execution_count": 25,
   "id": "d1b4ff02-ba76-4a31-880f-51dda140defa",
   "metadata": {},
   "outputs": [],
   "source": [
    "# your code here [de]"
   ]
  },
  {
   "cell_type": "code",
   "execution_count": 26,
   "id": "5826ad64-de44-4e69-8fdb-36e38307e8e6",
   "metadata": {},
   "outputs": [],
   "source": [
    "# your code here [de]"
   ]
  },
  {
   "cell_type": "markdown",
   "id": "f5ee1cc5-6b2b-4e5c-8041-3ad2ad321ec7",
   "metadata": {},
   "source": [
    "### We can also use spaCy to calculate the similarity between a german and an english article\n",
    "\n",
    "- Read also: [https://spacy.io/usage/spacy-101#vectors-similarity](https://spacy.io/usage/spacy-101#vectors-similarity)"
   ]
  },
  {
   "cell_type": "code",
   "execution_count": 29,
   "id": "72ed1dca-ac44-4d79-94b6-c36881319622",
   "metadata": {},
   "outputs": [
    {
     "data": {
      "text/plain": [
       "-0.03828550410754585"
      ]
     },
     "execution_count": 29,
     "metadata": {},
     "output_type": "execute_result"
    }
   ],
   "source": [
    "tokens_de.similarity(tokens_en)"
   ]
  },
  {
   "cell_type": "code",
   "execution_count": 30,
   "id": "887df2f9-1efd-433e-b016-1e2df328bb33",
   "metadata": {},
   "outputs": [
    {
     "data": {
      "text/plain": [
       "0.6646700501441956"
      ]
     },
     "execution_count": 30,
     "metadata": {},
     "output_type": "execute_result"
    }
   ],
   "source": [
    "fruits = nlp_en(\"apple banana\")\n",
    "fruits[0].similarity(fruits[1])"
   ]
  },
  {
   "cell_type": "markdown",
   "id": "d9f9779f-e5d7-44ca-9608-ba0a0fc2f355",
   "metadata": {},
   "source": [
    "### spaCy also encodes documents and tokens as feature vectors (we might come back to this later on)"
   ]
  },
  {
   "cell_type": "code",
   "execution_count": 31,
   "id": "191192d7-cd45-4970-99fa-7a9c91d99432",
   "metadata": {},
   "outputs": [
    {
     "name": "stdout",
     "output_type": "stream",
     "text": [
      "(300,)\n",
      "(300,)\n"
     ]
    }
   ],
   "source": [
    "token = tokens_en[0]\n",
    "print(token.vector.shape)\n",
    "print(tokens_en.vector.shape)"
   ]
  },
  {
   "cell_type": "code",
   "execution_count": null,
   "id": "0f3c5909-6e16-44b0-8324-1d6b8385cd23",
   "metadata": {},
   "outputs": [],
   "source": []
  }
 ],
 "metadata": {
  "kernelspec": {
   "display_name": "Python 3 (ipykernel)",
   "language": "python",
   "name": "python3"
  },
  "language_info": {
   "codemirror_mode": {
    "name": "ipython",
    "version": 3
   },
   "file_extension": ".py",
   "mimetype": "text/x-python",
   "name": "python",
   "nbconvert_exporter": "python",
   "pygments_lexer": "ipython3",
   "version": "3.12.0"
  }
 },
 "nbformat": 4,
 "nbformat_minor": 5
}
